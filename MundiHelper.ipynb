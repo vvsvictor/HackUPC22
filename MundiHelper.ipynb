{
  "nbformat": 4,
  "nbformat_minor": 0,
  "metadata": {
    "colab": {
      "name": "MundiHelper.ipynb",
      "provenance": []
    },
    "kernelspec": {
      "name": "python3",
      "display_name": "Python 3"
    },
    "language_info": {
      "name": "python"
    },
    "accelerator": "GPU"
  },
  "cells": [
    {
      "cell_type": "markdown",
      "source": [
        "#MundiHelper\n",
        "###The motorbike price predictor."
      ],
      "metadata": {
        "id": "PPtLv92bR9K5"
      }
    },
    {
      "cell_type": "markdown",
      "source": [
        "In this notebook, you will se how we made the Mundimoto challenge. \n",
        "This parts only includes a bit of the solution that we propose. Here you can see how we created, trained and tested the linear regresion model."
      ],
      "metadata": {
        "id": "xcpd0kgISElS"
      }
    },
    {
      "cell_type": "markdown",
      "source": [
        "First of all, we introduce all the imports that we need."
      ],
      "metadata": {
        "id": "lzsk0mcjSasI"
      }
    },
    {
      "cell_type": "code",
      "execution_count": 71,
      "metadata": {
        "id": "3m3kh9Py0h40"
      },
      "outputs": [],
      "source": [
        "!pip install -q git+https://github.com/tensorflow/docs "
      ]
    },
    {
      "cell_type": "code",
      "source": [
        "import os\n",
        "import pandas as pd\n",
        "import numpy as np\n",
        "import matplotlib.pyplot as plt\n",
        "from sklearn.model_selection import train_test_split\n",
        "from sklearn.preprocessing import LabelEncoder\n",
        "import seaborn as sns\n",
        "from sklearn.ensemble import RandomForestRegressor\n",
        "from sklearn.preprocessing import MinMaxScaler"
      ],
      "metadata": {
        "id": "9vIayJ5r0lLr"
      },
      "execution_count": 72,
      "outputs": []
    },
    {
      "cell_type": "markdown",
      "source": [
        "Here we can read the data provided from the dataset."
      ],
      "metadata": {
        "id": "7fgXvwOqSfdg"
      }
    },
    {
      "cell_type": "code",
      "source": [
        "url = 'data_final.csv'\n",
        "df = pd.read_csv(url,sep=\";\",low_memory=True)"
      ],
      "metadata": {
        "id": "qs8fno4X0m_Q"
      },
      "execution_count": 73,
      "outputs": []
    },
    {
      "cell_type": "markdown",
      "source": [
        "We can look at the data right here."
      ],
      "metadata": {
        "id": "3BwkMuGoSlGr"
      }
    },
    {
      "cell_type": "code",
      "source": [
        "df.head(10)"
      ],
      "metadata": {
        "colab": {
          "base_uri": "https://localhost:8080/",
          "height": 363
        },
        "id": "OjipOVm9CG3V",
        "outputId": "637491c7-5114-45a5-ebb9-61b8c780208d"
      },
      "execution_count": 74,
      "outputs": [
        {
          "output_type": "execute_result",
          "data": {
            "text/plain": [
              "   id     brand           model              version  year     km  sell_price  \\\n",
              "0  24    YAMAHA           X-MAX                  250  2018  40000       49900   \n",
              "1  27     HONDA            LEAD                  110  2017  12000       20000   \n",
              "2  31    SUZUKI             GSX              1250 FA  2017  19100       75900   \n",
              "3  37    YAMAHA             YZF                   R1  2005  50000       46900   \n",
              "4  40  KAWASAKI               Z                  900  2018  22800       65900   \n",
              "5  51  KAWASAKI    [*AJ*] NINJA                  650  2018  10000       57900   \n",
              "6  59  KAWASAKI              VN          900 CLASSIC  2009  35000       49900   \n",
              "7  62    SUZUKI  [*AJ*] BURGMAN                  125  2009  30000       18900   \n",
              "8  64     HONDA              CB            500 X ABS  2020  10000       54900   \n",
              "9  67    YAMAHA             XJ6  600 DIVERSION S ABS  2011  36000       41900   \n",
              "\n",
              "   purchase_price   cilindrada  \n",
              "0           250.0         21.0  \n",
              "1           107.0          7.0  \n",
              "2          1250.0         98.0  \n",
              "3           998.0        200.0  \n",
              "4           948.0        125.0  \n",
              "5           649.0         68.0  \n",
              "6           903.0         50.0  \n",
              "7           125.0         12.0  \n",
              "8           471.0         47.0  \n",
              "9           600.0         78.0  "
            ],
            "text/html": [
              "\n",
              "  <div id=\"df-f31a0398-9b29-485c-b782-af311fa27e29\">\n",
              "    <div class=\"colab-df-container\">\n",
              "      <div>\n",
              "<style scoped>\n",
              "    .dataframe tbody tr th:only-of-type {\n",
              "        vertical-align: middle;\n",
              "    }\n",
              "\n",
              "    .dataframe tbody tr th {\n",
              "        vertical-align: top;\n",
              "    }\n",
              "\n",
              "    .dataframe thead th {\n",
              "        text-align: right;\n",
              "    }\n",
              "</style>\n",
              "<table border=\"1\" class=\"dataframe\">\n",
              "  <thead>\n",
              "    <tr style=\"text-align: right;\">\n",
              "      <th></th>\n",
              "      <th>id</th>\n",
              "      <th>brand</th>\n",
              "      <th>model</th>\n",
              "      <th>version</th>\n",
              "      <th>year</th>\n",
              "      <th>km</th>\n",
              "      <th>sell_price</th>\n",
              "      <th>purchase_price</th>\n",
              "      <th>cilindrada</th>\n",
              "    </tr>\n",
              "  </thead>\n",
              "  <tbody>\n",
              "    <tr>\n",
              "      <th>0</th>\n",
              "      <td>24</td>\n",
              "      <td>YAMAHA</td>\n",
              "      <td>X-MAX</td>\n",
              "      <td>250</td>\n",
              "      <td>2018</td>\n",
              "      <td>40000</td>\n",
              "      <td>49900</td>\n",
              "      <td>250.0</td>\n",
              "      <td>21.0</td>\n",
              "    </tr>\n",
              "    <tr>\n",
              "      <th>1</th>\n",
              "      <td>27</td>\n",
              "      <td>HONDA</td>\n",
              "      <td>LEAD</td>\n",
              "      <td>110</td>\n",
              "      <td>2017</td>\n",
              "      <td>12000</td>\n",
              "      <td>20000</td>\n",
              "      <td>107.0</td>\n",
              "      <td>7.0</td>\n",
              "    </tr>\n",
              "    <tr>\n",
              "      <th>2</th>\n",
              "      <td>31</td>\n",
              "      <td>SUZUKI</td>\n",
              "      <td>GSX</td>\n",
              "      <td>1250 FA</td>\n",
              "      <td>2017</td>\n",
              "      <td>19100</td>\n",
              "      <td>75900</td>\n",
              "      <td>1250.0</td>\n",
              "      <td>98.0</td>\n",
              "    </tr>\n",
              "    <tr>\n",
              "      <th>3</th>\n",
              "      <td>37</td>\n",
              "      <td>YAMAHA</td>\n",
              "      <td>YZF</td>\n",
              "      <td>R1</td>\n",
              "      <td>2005</td>\n",
              "      <td>50000</td>\n",
              "      <td>46900</td>\n",
              "      <td>998.0</td>\n",
              "      <td>200.0</td>\n",
              "    </tr>\n",
              "    <tr>\n",
              "      <th>4</th>\n",
              "      <td>40</td>\n",
              "      <td>KAWASAKI</td>\n",
              "      <td>Z</td>\n",
              "      <td>900</td>\n",
              "      <td>2018</td>\n",
              "      <td>22800</td>\n",
              "      <td>65900</td>\n",
              "      <td>948.0</td>\n",
              "      <td>125.0</td>\n",
              "    </tr>\n",
              "    <tr>\n",
              "      <th>5</th>\n",
              "      <td>51</td>\n",
              "      <td>KAWASAKI</td>\n",
              "      <td>[*AJ*] NINJA</td>\n",
              "      <td>650</td>\n",
              "      <td>2018</td>\n",
              "      <td>10000</td>\n",
              "      <td>57900</td>\n",
              "      <td>649.0</td>\n",
              "      <td>68.0</td>\n",
              "    </tr>\n",
              "    <tr>\n",
              "      <th>6</th>\n",
              "      <td>59</td>\n",
              "      <td>KAWASAKI</td>\n",
              "      <td>VN</td>\n",
              "      <td>900 CLASSIC</td>\n",
              "      <td>2009</td>\n",
              "      <td>35000</td>\n",
              "      <td>49900</td>\n",
              "      <td>903.0</td>\n",
              "      <td>50.0</td>\n",
              "    </tr>\n",
              "    <tr>\n",
              "      <th>7</th>\n",
              "      <td>62</td>\n",
              "      <td>SUZUKI</td>\n",
              "      <td>[*AJ*] BURGMAN</td>\n",
              "      <td>125</td>\n",
              "      <td>2009</td>\n",
              "      <td>30000</td>\n",
              "      <td>18900</td>\n",
              "      <td>125.0</td>\n",
              "      <td>12.0</td>\n",
              "    </tr>\n",
              "    <tr>\n",
              "      <th>8</th>\n",
              "      <td>64</td>\n",
              "      <td>HONDA</td>\n",
              "      <td>CB</td>\n",
              "      <td>500 X ABS</td>\n",
              "      <td>2020</td>\n",
              "      <td>10000</td>\n",
              "      <td>54900</td>\n",
              "      <td>471.0</td>\n",
              "      <td>47.0</td>\n",
              "    </tr>\n",
              "    <tr>\n",
              "      <th>9</th>\n",
              "      <td>67</td>\n",
              "      <td>YAMAHA</td>\n",
              "      <td>XJ6</td>\n",
              "      <td>600 DIVERSION S ABS</td>\n",
              "      <td>2011</td>\n",
              "      <td>36000</td>\n",
              "      <td>41900</td>\n",
              "      <td>600.0</td>\n",
              "      <td>78.0</td>\n",
              "    </tr>\n",
              "  </tbody>\n",
              "</table>\n",
              "</div>\n",
              "      <button class=\"colab-df-convert\" onclick=\"convertToInteractive('df-f31a0398-9b29-485c-b782-af311fa27e29')\"\n",
              "              title=\"Convert this dataframe to an interactive table.\"\n",
              "              style=\"display:none;\">\n",
              "        \n",
              "  <svg xmlns=\"http://www.w3.org/2000/svg\" height=\"24px\"viewBox=\"0 0 24 24\"\n",
              "       width=\"24px\">\n",
              "    <path d=\"M0 0h24v24H0V0z\" fill=\"none\"/>\n",
              "    <path d=\"M18.56 5.44l.94 2.06.94-2.06 2.06-.94-2.06-.94-.94-2.06-.94 2.06-2.06.94zm-11 1L8.5 8.5l.94-2.06 2.06-.94-2.06-.94L8.5 2.5l-.94 2.06-2.06.94zm10 10l.94 2.06.94-2.06 2.06-.94-2.06-.94-.94-2.06-.94 2.06-2.06.94z\"/><path d=\"M17.41 7.96l-1.37-1.37c-.4-.4-.92-.59-1.43-.59-.52 0-1.04.2-1.43.59L10.3 9.45l-7.72 7.72c-.78.78-.78 2.05 0 2.83L4 21.41c.39.39.9.59 1.41.59.51 0 1.02-.2 1.41-.59l7.78-7.78 2.81-2.81c.8-.78.8-2.07 0-2.86zM5.41 20L4 18.59l7.72-7.72 1.47 1.35L5.41 20z\"/>\n",
              "  </svg>\n",
              "      </button>\n",
              "      \n",
              "  <style>\n",
              "    .colab-df-container {\n",
              "      display:flex;\n",
              "      flex-wrap:wrap;\n",
              "      gap: 12px;\n",
              "    }\n",
              "\n",
              "    .colab-df-convert {\n",
              "      background-color: #E8F0FE;\n",
              "      border: none;\n",
              "      border-radius: 50%;\n",
              "      cursor: pointer;\n",
              "      display: none;\n",
              "      fill: #1967D2;\n",
              "      height: 32px;\n",
              "      padding: 0 0 0 0;\n",
              "      width: 32px;\n",
              "    }\n",
              "\n",
              "    .colab-df-convert:hover {\n",
              "      background-color: #E2EBFA;\n",
              "      box-shadow: 0px 1px 2px rgba(60, 64, 67, 0.3), 0px 1px 3px 1px rgba(60, 64, 67, 0.15);\n",
              "      fill: #174EA6;\n",
              "    }\n",
              "\n",
              "    [theme=dark] .colab-df-convert {\n",
              "      background-color: #3B4455;\n",
              "      fill: #D2E3FC;\n",
              "    }\n",
              "\n",
              "    [theme=dark] .colab-df-convert:hover {\n",
              "      background-color: #434B5C;\n",
              "      box-shadow: 0px 1px 3px 1px rgba(0, 0, 0, 0.15);\n",
              "      filter: drop-shadow(0px 1px 2px rgba(0, 0, 0, 0.3));\n",
              "      fill: #FFFFFF;\n",
              "    }\n",
              "  </style>\n",
              "\n",
              "      <script>\n",
              "        const buttonEl =\n",
              "          document.querySelector('#df-f31a0398-9b29-485c-b782-af311fa27e29 button.colab-df-convert');\n",
              "        buttonEl.style.display =\n",
              "          google.colab.kernel.accessAllowed ? 'block' : 'none';\n",
              "\n",
              "        async function convertToInteractive(key) {\n",
              "          const element = document.querySelector('#df-f31a0398-9b29-485c-b782-af311fa27e29');\n",
              "          const dataTable =\n",
              "            await google.colab.kernel.invokeFunction('convertToInteractive',\n",
              "                                                     [key], {});\n",
              "          if (!dataTable) return;\n",
              "\n",
              "          const docLinkHtml = 'Like what you see? Visit the ' +\n",
              "            '<a target=\"_blank\" href=https://colab.research.google.com/notebooks/data_table.ipynb>data table notebook</a>'\n",
              "            + ' to learn more about interactive tables.';\n",
              "          element.innerHTML = '';\n",
              "          dataTable['output_type'] = 'display_data';\n",
              "          await google.colab.output.renderOutput(dataTable, element);\n",
              "          const docLink = document.createElement('div');\n",
              "          docLink.innerHTML = docLinkHtml;\n",
              "          element.appendChild(docLink);\n",
              "        }\n",
              "      </script>\n",
              "    </div>\n",
              "  </div>\n",
              "  "
            ]
          },
          "metadata": {},
          "execution_count": 74
        }
      ]
    },
    {
      "cell_type": "markdown",
      "source": [
        "In this code part, we create the inputs and outputs for our model. The inputs are the X dataframe, and the outputs that the model should predict, are the Y dataframe.\n",
        "\n",
        "We are also going to preprocess the data in the following cells."
      ],
      "metadata": {
        "id": "d-yCgOQOSqiV"
      }
    },
    {
      "cell_type": "code",
      "source": [
        "Y = df['sell_price']\n",
        "X = df.drop(columns=['sell_price', 'purchase_price', 'id'])\n",
        "X.head()"
      ],
      "metadata": {
        "colab": {
          "base_uri": "https://localhost:8080/",
          "height": 206
        },
        "id": "Vo-csILa0zHT",
        "outputId": "a01084f1-05a3-4fe7-c19f-8b2246e2c75e"
      },
      "execution_count": 75,
      "outputs": [
        {
          "output_type": "execute_result",
          "data": {
            "text/plain": [
              "      brand  model  version  year     km   cilindrada\n",
              "0    YAMAHA  X-MAX      250  2018  40000         21.0\n",
              "1     HONDA   LEAD      110  2017  12000          7.0\n",
              "2    SUZUKI    GSX  1250 FA  2017  19100         98.0\n",
              "3    YAMAHA    YZF       R1  2005  50000        200.0\n",
              "4  KAWASAKI      Z      900  2018  22800        125.0"
            ],
            "text/html": [
              "\n",
              "  <div id=\"df-ac7dcefb-8f69-4e01-83cf-b030b6712934\">\n",
              "    <div class=\"colab-df-container\">\n",
              "      <div>\n",
              "<style scoped>\n",
              "    .dataframe tbody tr th:only-of-type {\n",
              "        vertical-align: middle;\n",
              "    }\n",
              "\n",
              "    .dataframe tbody tr th {\n",
              "        vertical-align: top;\n",
              "    }\n",
              "\n",
              "    .dataframe thead th {\n",
              "        text-align: right;\n",
              "    }\n",
              "</style>\n",
              "<table border=\"1\" class=\"dataframe\">\n",
              "  <thead>\n",
              "    <tr style=\"text-align: right;\">\n",
              "      <th></th>\n",
              "      <th>brand</th>\n",
              "      <th>model</th>\n",
              "      <th>version</th>\n",
              "      <th>year</th>\n",
              "      <th>km</th>\n",
              "      <th>cilindrada</th>\n",
              "    </tr>\n",
              "  </thead>\n",
              "  <tbody>\n",
              "    <tr>\n",
              "      <th>0</th>\n",
              "      <td>YAMAHA</td>\n",
              "      <td>X-MAX</td>\n",
              "      <td>250</td>\n",
              "      <td>2018</td>\n",
              "      <td>40000</td>\n",
              "      <td>21.0</td>\n",
              "    </tr>\n",
              "    <tr>\n",
              "      <th>1</th>\n",
              "      <td>HONDA</td>\n",
              "      <td>LEAD</td>\n",
              "      <td>110</td>\n",
              "      <td>2017</td>\n",
              "      <td>12000</td>\n",
              "      <td>7.0</td>\n",
              "    </tr>\n",
              "    <tr>\n",
              "      <th>2</th>\n",
              "      <td>SUZUKI</td>\n",
              "      <td>GSX</td>\n",
              "      <td>1250 FA</td>\n",
              "      <td>2017</td>\n",
              "      <td>19100</td>\n",
              "      <td>98.0</td>\n",
              "    </tr>\n",
              "    <tr>\n",
              "      <th>3</th>\n",
              "      <td>YAMAHA</td>\n",
              "      <td>YZF</td>\n",
              "      <td>R1</td>\n",
              "      <td>2005</td>\n",
              "      <td>50000</td>\n",
              "      <td>200.0</td>\n",
              "    </tr>\n",
              "    <tr>\n",
              "      <th>4</th>\n",
              "      <td>KAWASAKI</td>\n",
              "      <td>Z</td>\n",
              "      <td>900</td>\n",
              "      <td>2018</td>\n",
              "      <td>22800</td>\n",
              "      <td>125.0</td>\n",
              "    </tr>\n",
              "  </tbody>\n",
              "</table>\n",
              "</div>\n",
              "      <button class=\"colab-df-convert\" onclick=\"convertToInteractive('df-ac7dcefb-8f69-4e01-83cf-b030b6712934')\"\n",
              "              title=\"Convert this dataframe to an interactive table.\"\n",
              "              style=\"display:none;\">\n",
              "        \n",
              "  <svg xmlns=\"http://www.w3.org/2000/svg\" height=\"24px\"viewBox=\"0 0 24 24\"\n",
              "       width=\"24px\">\n",
              "    <path d=\"M0 0h24v24H0V0z\" fill=\"none\"/>\n",
              "    <path d=\"M18.56 5.44l.94 2.06.94-2.06 2.06-.94-2.06-.94-.94-2.06-.94 2.06-2.06.94zm-11 1L8.5 8.5l.94-2.06 2.06-.94-2.06-.94L8.5 2.5l-.94 2.06-2.06.94zm10 10l.94 2.06.94-2.06 2.06-.94-2.06-.94-.94-2.06-.94 2.06-2.06.94z\"/><path d=\"M17.41 7.96l-1.37-1.37c-.4-.4-.92-.59-1.43-.59-.52 0-1.04.2-1.43.59L10.3 9.45l-7.72 7.72c-.78.78-.78 2.05 0 2.83L4 21.41c.39.39.9.59 1.41.59.51 0 1.02-.2 1.41-.59l7.78-7.78 2.81-2.81c.8-.78.8-2.07 0-2.86zM5.41 20L4 18.59l7.72-7.72 1.47 1.35L5.41 20z\"/>\n",
              "  </svg>\n",
              "      </button>\n",
              "      \n",
              "  <style>\n",
              "    .colab-df-container {\n",
              "      display:flex;\n",
              "      flex-wrap:wrap;\n",
              "      gap: 12px;\n",
              "    }\n",
              "\n",
              "    .colab-df-convert {\n",
              "      background-color: #E8F0FE;\n",
              "      border: none;\n",
              "      border-radius: 50%;\n",
              "      cursor: pointer;\n",
              "      display: none;\n",
              "      fill: #1967D2;\n",
              "      height: 32px;\n",
              "      padding: 0 0 0 0;\n",
              "      width: 32px;\n",
              "    }\n",
              "\n",
              "    .colab-df-convert:hover {\n",
              "      background-color: #E2EBFA;\n",
              "      box-shadow: 0px 1px 2px rgba(60, 64, 67, 0.3), 0px 1px 3px 1px rgba(60, 64, 67, 0.15);\n",
              "      fill: #174EA6;\n",
              "    }\n",
              "\n",
              "    [theme=dark] .colab-df-convert {\n",
              "      background-color: #3B4455;\n",
              "      fill: #D2E3FC;\n",
              "    }\n",
              "\n",
              "    [theme=dark] .colab-df-convert:hover {\n",
              "      background-color: #434B5C;\n",
              "      box-shadow: 0px 1px 3px 1px rgba(0, 0, 0, 0.15);\n",
              "      filter: drop-shadow(0px 1px 2px rgba(0, 0, 0, 0.3));\n",
              "      fill: #FFFFFF;\n",
              "    }\n",
              "  </style>\n",
              "\n",
              "      <script>\n",
              "        const buttonEl =\n",
              "          document.querySelector('#df-ac7dcefb-8f69-4e01-83cf-b030b6712934 button.colab-df-convert');\n",
              "        buttonEl.style.display =\n",
              "          google.colab.kernel.accessAllowed ? 'block' : 'none';\n",
              "\n",
              "        async function convertToInteractive(key) {\n",
              "          const element = document.querySelector('#df-ac7dcefb-8f69-4e01-83cf-b030b6712934');\n",
              "          const dataTable =\n",
              "            await google.colab.kernel.invokeFunction('convertToInteractive',\n",
              "                                                     [key], {});\n",
              "          if (!dataTable) return;\n",
              "\n",
              "          const docLinkHtml = 'Like what you see? Visit the ' +\n",
              "            '<a target=\"_blank\" href=https://colab.research.google.com/notebooks/data_table.ipynb>data table notebook</a>'\n",
              "            + ' to learn more about interactive tables.';\n",
              "          element.innerHTML = '';\n",
              "          dataTable['output_type'] = 'display_data';\n",
              "          await google.colab.output.renderOutput(dataTable, element);\n",
              "          const docLink = document.createElement('div');\n",
              "          docLink.innerHTML = docLinkHtml;\n",
              "          element.appendChild(docLink);\n",
              "        }\n",
              "      </script>\n",
              "    </div>\n",
              "  </div>\n",
              "  "
            ]
          },
          "metadata": {},
          "execution_count": 75
        }
      ]
    },
    {
      "cell_type": "markdown",
      "source": [
        "In our dataset, we have one categorical attribute, so we use a label encoder to make the inputs more easy to use for the model"
      ],
      "metadata": {
        "id": "YrpNaivlS6_Y"
      }
    },
    {
      "cell_type": "code",
      "source": [
        "le = LabelEncoder()\n",
        "X['brand'] = le.fit_transform(X['brand'])\n",
        "X['model'] = le.fit_transform(X['model'])\n",
        "X['version'] = le.fit_transform(X['version'])\n"
      ],
      "metadata": {
        "id": "hPstDyPA1vAq"
      },
      "execution_count": 77,
      "outputs": []
    },
    {
      "cell_type": "markdown",
      "source": [
        "Once we have the inputs and outputs, we have to normalize the data, as the numbers differ too much."
      ],
      "metadata": {
        "id": "puAyK3WIS3q5"
      }
    },
    {
      "cell_type": "code",
      "source": [
        "scaler = MinMaxScaler()\n",
        "df[[\"km\", \"purchase_price\", \" cilindrada\"]] = scaler.fit_transform(df[[\"km\", \"purchase_price\", \" cilindrada\"]])"
      ],
      "metadata": {
        "id": "oaJa7IMbOPBK"
      },
      "execution_count": 79,
      "outputs": []
    },
    {
      "cell_type": "markdown",
      "source": [
        "Here we can see the correlation between the attributes."
      ],
      "metadata": {
        "id": "KQrGQrDjS868"
      }
    },
    {
      "cell_type": "code",
      "source": [
        "#Using Pearson Correlation\n",
        "plt.figure(figsize=(12,10))\n",
        "cor = df.corr()\n",
        "sns.heatmap(cor, annot=True, cmap=plt.cm.Reds)\n",
        "plt.show()"
      ],
      "metadata": {
        "colab": {
          "base_uri": "https://localhost:8080/",
          "height": 596
        },
        "id": "mCv-BFOIDDKu",
        "outputId": "9252ea45-8e05-4399-dcf7-09110368dec5"
      },
      "execution_count": 80,
      "outputs": [
        {
          "output_type": "display_data",
          "data": {
            "text/plain": [
              "<Figure size 864x720 with 2 Axes>"
            ],
            "image/png": "[encoded data removed]"
          },
          "metadata": {
            "needs_background": "light"
          }
        }
      ]
    },
    {
      "cell_type": "markdown",
      "source": [
        "We create the train set and the test set.\n",
        "The X ones are the inputs and the Y are the outputs that our models should have."
      ],
      "metadata": {
        "id": "3EMyGpcsTO6x"
      }
    },
    {
      "cell_type": "code",
      "source": [
        "X_train, X_test, y_train, y_test = train_test_split(X, Y, test_size=0.2)"
      ],
      "metadata": {
        "id": "OqQrqJgd05Nb"
      },
      "execution_count": 81,
      "outputs": []
    },
    {
      "cell_type": "markdown",
      "source": [
        "We fill the NaN values from our sets as they can interfere with the model."
      ],
      "metadata": {
        "id": "befu8tILTeSI"
      }
    },
    {
      "cell_type": "code",
      "source": [
        "X_train = X_train.fillna(0)\n",
        "X_test = X_test.fillna(0)\n",
        "y_train = y_train.fillna(0)\n",
        "y_train = y_train.fillna(0)"
      ],
      "metadata": {
        "id": "K9uly8VFP_Cw"
      },
      "execution_count": 82,
      "outputs": []
    },
    {
      "cell_type": "markdown",
      "source": [
        "For our model, we will use a linear regression based on a Random Forest Regressor, as for price prediction is one of the bests."
      ],
      "metadata": {
        "id": "mYQU-DlsTmnr"
      }
    },
    {
      "cell_type": "code",
      "source": [
        "clf = RandomForestRegressor(n_estimators=2000)"
      ],
      "metadata": {
        "id": "jxbChdDaPFiY"
      },
      "execution_count": 83,
      "outputs": []
    },
    {
      "cell_type": "markdown",
      "source": [
        "We train our model."
      ],
      "metadata": {
        "id": "N2aCE99dTvXU"
      }
    },
    {
      "cell_type": "code",
      "source": [
        "clf.fit(X_train, y_train)"
      ],
      "metadata": {
        "colab": {
          "base_uri": "https://localhost:8080/"
        },
        "id": "Q0dj_VIVPuo8",
        "outputId": "f6b7ddf7-1a42-4e43-9ed7-f7327d09fe30"
      },
      "execution_count": 84,
      "outputs": [
        {
          "output_type": "execute_result",
          "data": {
            "text/plain": [
              "RandomForestRegressor(n_estimators=2000)"
            ]
          },
          "metadata": {},
          "execution_count": 84
        }
      ]
    },
    {
      "cell_type": "markdown",
      "source": [
        "Now, with the model trained, we just have to test it with the test sets and evaluate the precision of our model."
      ],
      "metadata": {
        "id": "Trtoc_CYTxjn"
      }
    },
    {
      "cell_type": "code",
      "source": [
        "clf.score(X_test,y_test)*100"
      ],
      "metadata": {
        "colab": {
          "base_uri": "https://localhost:8080/"
        },
        "id": "0GqF1iGgQhl2",
        "outputId": "93c3f273-0619-493f-ffbd-ffa4f6d19bcd"
      },
      "execution_count": 86,
      "outputs": [
        {
          "output_type": "execute_result",
          "data": {
            "text/plain": [
              "72.6039330696254"
            ]
          },
          "metadata": {},
          "execution_count": 86
        }
      ]
    },
    {
      "cell_type": "markdown",
      "source": [
        "As we can see here, we got a 72.6% precision, which we believe is more than enough given the data set."
      ],
      "metadata": {
        "id": "BTLG1WnJT4pw"
      }
    }
  ]
}